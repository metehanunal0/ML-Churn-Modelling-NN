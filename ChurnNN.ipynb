{
  "nbformat": 4,
  "nbformat_minor": 0,
  "metadata": {
    "colab": {
      "provenance": [],
      "authorship_tag": "ABX9TyMpYMn0ZfTt9Il+2WUKcXkB",
      "include_colab_link": true
    },
    "kernelspec": {
      "name": "python3",
      "display_name": "Python 3"
    },
    "language_info": {
      "name": "python"
    }
  },
  "cells": [
    {
      "cell_type": "markdown",
      "metadata": {
        "id": "view-in-github",
        "colab_type": "text"
      },
      "source": [
        "<a href=\"https://colab.research.google.com/github/metehanunal0/ML-Churn-Modelling-NN/blob/main/ChurnNN.ipynb\" target=\"_parent\"><img src=\"https://colab.research.google.com/assets/colab-badge.svg\" alt=\"Open In Colab\"/></a>"
      ]
    },
    {
      "cell_type": "code",
      "source": [
        "import pandas as pd\n",
        "import matplotlib.pyplot as plt\n",
        "import seaborn as sns\n",
        "from sklearn.metrics import roc_curve, roc_auc_score\n",
        "from sklearn.datasets import make_classification\n",
        "import numpy as np\n",
        "from prettytable import PrettyTable"
      ],
      "metadata": {
        "id": "rr4c9bhQe8l8"
      },
      "execution_count": null,
      "outputs": []
    },
    {
      "cell_type": "markdown",
      "source": [
        "# Churn Modelling w/ Neural Network"
      ],
      "metadata": {
        "id": "PvdTDQZgGvES"
      }
    },
    {
      "cell_type": "code",
      "source": [
        "df = pd.read_csv(\"Churn_Modelling.csv\")"
      ],
      "metadata": {
        "id": "07nvKI5fW-Wa"
      },
      "execution_count": null,
      "outputs": []
    },
    {
      "cell_type": "code",
      "source": [
        "df.head()"
      ],
      "metadata": {
        "colab": {
          "base_uri": "https://localhost:8080/",
          "height": 206
        },
        "id": "aSa8ztY0e_kB",
        "outputId": "95b7bbd1-7a2d-4146-8fa7-efa4573fd0bd"
      },
      "execution_count": null,
      "outputs": [
        {
          "output_type": "execute_result",
          "data": {
            "text/plain": [
              "   RowNumber  CustomerId   Surname  CreditScore Geography  Gender  Age  \\\n",
              "0          1    15634602  Hargrave          619    France  Female   42   \n",
              "1          2    15647311      Hill          608     Spain  Female   41   \n",
              "2          3    15619304      Onio          502    France  Female   42   \n",
              "3          4    15701354      Boni          699    France  Female   39   \n",
              "4          5    15737888  Mitchell          850     Spain  Female   43   \n",
              "\n",
              "   Tenure    Balance  NumOfProducts  HasCrCard  IsActiveMember  \\\n",
              "0       2       0.00              1          1               1   \n",
              "1       1   83807.86              1          0               1   \n",
              "2       8  159660.80              3          1               0   \n",
              "3       1       0.00              2          0               0   \n",
              "4       2  125510.82              1          1               1   \n",
              "\n",
              "   EstimatedSalary  Exited  \n",
              "0        101348.88       1  \n",
              "1        112542.58       0  \n",
              "2        113931.57       1  \n",
              "3         93826.63       0  \n",
              "4         79084.10       0  "
            ],
            "text/html": [
              "\n",
              "\n",
              "  <div id=\"df-5e1a4d24-3f63-4d9a-afdd-df7c6c46e4ed\">\n",
              "    <div class=\"colab-df-container\">\n",
              "      <div>\n",
              "<style scoped>\n",
              "    .dataframe tbody tr th:only-of-type {\n",
              "        vertical-align: middle;\n",
              "    }\n",
              "\n",
              "    .dataframe tbody tr th {\n",
              "        vertical-align: top;\n",
              "    }\n",
              "\n",
              "    .dataframe thead th {\n",
              "        text-align: right;\n",
              "    }\n",
              "</style>\n",
              "<table border=\"1\" class=\"dataframe\">\n",
              "  <thead>\n",
              "    <tr style=\"text-align: right;\">\n",
              "      <th></th>\n",
              "      <th>RowNumber</th>\n",
              "      <th>CustomerId</th>\n",
              "      <th>Surname</th>\n",
              "      <th>CreditScore</th>\n",
              "      <th>Geography</th>\n",
              "      <th>Gender</th>\n",
              "      <th>Age</th>\n",
              "      <th>Tenure</th>\n",
              "      <th>Balance</th>\n",
              "      <th>NumOfProducts</th>\n",
              "      <th>HasCrCard</th>\n",
              "      <th>IsActiveMember</th>\n",
              "      <th>EstimatedSalary</th>\n",
              "      <th>Exited</th>\n",
              "    </tr>\n",
              "  </thead>\n",
              "  <tbody>\n",
              "    <tr>\n",
              "      <th>0</th>\n",
              "      <td>1</td>\n",
              "      <td>15634602</td>\n",
              "      <td>Hargrave</td>\n",
              "      <td>619</td>\n",
              "      <td>France</td>\n",
              "      <td>Female</td>\n",
              "      <td>42</td>\n",
              "      <td>2</td>\n",
              "      <td>0.00</td>\n",
              "      <td>1</td>\n",
              "      <td>1</td>\n",
              "      <td>1</td>\n",
              "      <td>101348.88</td>\n",
              "      <td>1</td>\n",
              "    </tr>\n",
              "    <tr>\n",
              "      <th>1</th>\n",
              "      <td>2</td>\n",
              "      <td>15647311</td>\n",
              "      <td>Hill</td>\n",
              "      <td>608</td>\n",
              "      <td>Spain</td>\n",
              "      <td>Female</td>\n",
              "      <td>41</td>\n",
              "      <td>1</td>\n",
              "      <td>83807.86</td>\n",
              "      <td>1</td>\n",
              "      <td>0</td>\n",
              "      <td>1</td>\n",
              "      <td>112542.58</td>\n",
              "      <td>0</td>\n",
              "    </tr>\n",
              "    <tr>\n",
              "      <th>2</th>\n",
              "      <td>3</td>\n",
              "      <td>15619304</td>\n",
              "      <td>Onio</td>\n",
              "      <td>502</td>\n",
              "      <td>France</td>\n",
              "      <td>Female</td>\n",
              "      <td>42</td>\n",
              "      <td>8</td>\n",
              "      <td>159660.80</td>\n",
              "      <td>3</td>\n",
              "      <td>1</td>\n",
              "      <td>0</td>\n",
              "      <td>113931.57</td>\n",
              "      <td>1</td>\n",
              "    </tr>\n",
              "    <tr>\n",
              "      <th>3</th>\n",
              "      <td>4</td>\n",
              "      <td>15701354</td>\n",
              "      <td>Boni</td>\n",
              "      <td>699</td>\n",
              "      <td>France</td>\n",
              "      <td>Female</td>\n",
              "      <td>39</td>\n",
              "      <td>1</td>\n",
              "      <td>0.00</td>\n",
              "      <td>2</td>\n",
              "      <td>0</td>\n",
              "      <td>0</td>\n",
              "      <td>93826.63</td>\n",
              "      <td>0</td>\n",
              "    </tr>\n",
              "    <tr>\n",
              "      <th>4</th>\n",
              "      <td>5</td>\n",
              "      <td>15737888</td>\n",
              "      <td>Mitchell</td>\n",
              "      <td>850</td>\n",
              "      <td>Spain</td>\n",
              "      <td>Female</td>\n",
              "      <td>43</td>\n",
              "      <td>2</td>\n",
              "      <td>125510.82</td>\n",
              "      <td>1</td>\n",
              "      <td>1</td>\n",
              "      <td>1</td>\n",
              "      <td>79084.10</td>\n",
              "      <td>0</td>\n",
              "    </tr>\n",
              "  </tbody>\n",
              "</table>\n",
              "</div>\n",
              "      <button class=\"colab-df-convert\" onclick=\"convertToInteractive('df-5e1a4d24-3f63-4d9a-afdd-df7c6c46e4ed')\"\n",
              "              title=\"Convert this dataframe to an interactive table.\"\n",
              "              style=\"display:none;\">\n",
              "\n",
              "  <svg xmlns=\"http://www.w3.org/2000/svg\" height=\"24px\"viewBox=\"0 0 24 24\"\n",
              "       width=\"24px\">\n",
              "    <path d=\"M0 0h24v24H0V0z\" fill=\"none\"/>\n",
              "    <path d=\"M18.56 5.44l.94 2.06.94-2.06 2.06-.94-2.06-.94-.94-2.06-.94 2.06-2.06.94zm-11 1L8.5 8.5l.94-2.06 2.06-.94-2.06-.94L8.5 2.5l-.94 2.06-2.06.94zm10 10l.94 2.06.94-2.06 2.06-.94-2.06-.94-.94-2.06-.94 2.06-2.06.94z\"/><path d=\"M17.41 7.96l-1.37-1.37c-.4-.4-.92-.59-1.43-.59-.52 0-1.04.2-1.43.59L10.3 9.45l-7.72 7.72c-.78.78-.78 2.05 0 2.83L4 21.41c.39.39.9.59 1.41.59.51 0 1.02-.2 1.41-.59l7.78-7.78 2.81-2.81c.8-.78.8-2.07 0-2.86zM5.41 20L4 18.59l7.72-7.72 1.47 1.35L5.41 20z\"/>\n",
              "  </svg>\n",
              "      </button>\n",
              "\n",
              "\n",
              "\n",
              "    <div id=\"df-a34be257-a09b-461f-a434-afc4faf263b6\">\n",
              "      <button class=\"colab-df-quickchart\" onclick=\"quickchart('df-a34be257-a09b-461f-a434-afc4faf263b6')\"\n",
              "              title=\"Suggest charts.\"\n",
              "              style=\"display:none;\">\n",
              "\n",
              "<svg xmlns=\"http://www.w3.org/2000/svg\" height=\"24px\"viewBox=\"0 0 24 24\"\n",
              "     width=\"24px\">\n",
              "    <g>\n",
              "        <path d=\"M19 3H5c-1.1 0-2 .9-2 2v14c0 1.1.9 2 2 2h14c1.1 0 2-.9 2-2V5c0-1.1-.9-2-2-2zM9 17H7v-7h2v7zm4 0h-2V7h2v10zm4 0h-2v-4h2v4z\"/>\n",
              "    </g>\n",
              "</svg>\n",
              "      </button>\n",
              "    </div>\n",
              "\n",
              "<style>\n",
              "  .colab-df-quickchart {\n",
              "    background-color: #E8F0FE;\n",
              "    border: none;\n",
              "    border-radius: 50%;\n",
              "    cursor: pointer;\n",
              "    display: none;\n",
              "    fill: #1967D2;\n",
              "    height: 32px;\n",
              "    padding: 0 0 0 0;\n",
              "    width: 32px;\n",
              "  }\n",
              "\n",
              "  .colab-df-quickchart:hover {\n",
              "    background-color: #E2EBFA;\n",
              "    box-shadow: 0px 1px 2px rgba(60, 64, 67, 0.3), 0px 1px 3px 1px rgba(60, 64, 67, 0.15);\n",
              "    fill: #174EA6;\n",
              "  }\n",
              "\n",
              "  [theme=dark] .colab-df-quickchart {\n",
              "    background-color: #3B4455;\n",
              "    fill: #D2E3FC;\n",
              "  }\n",
              "\n",
              "  [theme=dark] .colab-df-quickchart:hover {\n",
              "    background-color: #434B5C;\n",
              "    box-shadow: 0px 1px 3px 1px rgba(0, 0, 0, 0.15);\n",
              "    filter: drop-shadow(0px 1px 2px rgba(0, 0, 0, 0.3));\n",
              "    fill: #FFFFFF;\n",
              "  }\n",
              "</style>\n",
              "\n",
              "    <script>\n",
              "      async function quickchart(key) {\n",
              "        const containerElement = document.querySelector('#' + key);\n",
              "        const charts = await google.colab.kernel.invokeFunction(\n",
              "            'suggestCharts', [key], {});\n",
              "      }\n",
              "    </script>\n",
              "\n",
              "      <script>\n",
              "\n",
              "function displayQuickchartButton(domScope) {\n",
              "  let quickchartButtonEl =\n",
              "    domScope.querySelector('#df-a34be257-a09b-461f-a434-afc4faf263b6 button.colab-df-quickchart');\n",
              "  quickchartButtonEl.style.display =\n",
              "    google.colab.kernel.accessAllowed ? 'block' : 'none';\n",
              "}\n",
              "\n",
              "        displayQuickchartButton(document);\n",
              "      </script>\n",
              "      <style>\n",
              "    .colab-df-container {\n",
              "      display:flex;\n",
              "      flex-wrap:wrap;\n",
              "      gap: 12px;\n",
              "    }\n",
              "\n",
              "    .colab-df-convert {\n",
              "      background-color: #E8F0FE;\n",
              "      border: none;\n",
              "      border-radius: 50%;\n",
              "      cursor: pointer;\n",
              "      display: none;\n",
              "      fill: #1967D2;\n",
              "      height: 32px;\n",
              "      padding: 0 0 0 0;\n",
              "      width: 32px;\n",
              "    }\n",
              "\n",
              "    .colab-df-convert:hover {\n",
              "      background-color: #E2EBFA;\n",
              "      box-shadow: 0px 1px 2px rgba(60, 64, 67, 0.3), 0px 1px 3px 1px rgba(60, 64, 67, 0.15);\n",
              "      fill: #174EA6;\n",
              "    }\n",
              "\n",
              "    [theme=dark] .colab-df-convert {\n",
              "      background-color: #3B4455;\n",
              "      fill: #D2E3FC;\n",
              "    }\n",
              "\n",
              "    [theme=dark] .colab-df-convert:hover {\n",
              "      background-color: #434B5C;\n",
              "      box-shadow: 0px 1px 3px 1px rgba(0, 0, 0, 0.15);\n",
              "      filter: drop-shadow(0px 1px 2px rgba(0, 0, 0, 0.3));\n",
              "      fill: #FFFFFF;\n",
              "    }\n",
              "  </style>\n",
              "\n",
              "      <script>\n",
              "        const buttonEl =\n",
              "          document.querySelector('#df-5e1a4d24-3f63-4d9a-afdd-df7c6c46e4ed button.colab-df-convert');\n",
              "        buttonEl.style.display =\n",
              "          google.colab.kernel.accessAllowed ? 'block' : 'none';\n",
              "\n",
              "        async function convertToInteractive(key) {\n",
              "          const element = document.querySelector('#df-5e1a4d24-3f63-4d9a-afdd-df7c6c46e4ed');\n",
              "          const dataTable =\n",
              "            await google.colab.kernel.invokeFunction('convertToInteractive',\n",
              "                                                     [key], {});\n",
              "          if (!dataTable) return;\n",
              "\n",
              "          const docLinkHtml = 'Like what you see? Visit the ' +\n",
              "            '<a target=\"_blank\" href=https://colab.research.google.com/notebooks/data_table.ipynb>data table notebook</a>'\n",
              "            + ' to learn more about interactive tables.';\n",
              "          element.innerHTML = '';\n",
              "          dataTable['output_type'] = 'display_data';\n",
              "          await google.colab.output.renderOutput(dataTable, element);\n",
              "          const docLink = document.createElement('div');\n",
              "          docLink.innerHTML = docLinkHtml;\n",
              "          element.appendChild(docLink);\n",
              "        }\n",
              "      </script>\n",
              "    </div>\n",
              "  </div>\n"
            ]
          },
          "metadata": {},
          "execution_count": 6
        }
      ]
    },
    {
      "cell_type": "code",
      "source": [
        "X = df.iloc[:,3:13].values\n",
        "y = df.iloc[:,13].values"
      ],
      "metadata": {
        "id": "NetePvfafBUF"
      },
      "execution_count": null,
      "outputs": []
    },
    {
      "cell_type": "code",
      "source": [
        "from sklearn import preprocessing\n",
        "\n",
        "le = preprocessing.LabelEncoder()\n",
        "X[:,1] = le.fit_transform(X[:,1])\n",
        "\n",
        "le2 = preprocessing.LabelEncoder()\n",
        "X[:,2] = le.fit_transform(X[:,2])"
      ],
      "metadata": {
        "id": "vL5_ELqwfZNr"
      },
      "execution_count": null,
      "outputs": []
    },
    {
      "cell_type": "code",
      "source": [
        "from sklearn.preprocessing import OneHotEncoder\n",
        "from sklearn.compose import ColumnTransformer\n",
        "\n",
        "ohe = ColumnTransformer([('ohe',OneHotEncoder(dtype=float),[1])], remainder='passthrough')\n",
        "X = ohe.fit_transform(X)\n",
        "X = X[:,1:]"
      ],
      "metadata": {
        "id": "ltYY3UfGf8cV"
      },
      "execution_count": null,
      "outputs": []
    },
    {
      "cell_type": "code",
      "source": [
        "from sklearn.model_selection import train_test_split\n",
        "\n",
        "x_train, x_test, y_train, y_test = train_test_split(X,y,test_size=0.33, random_state=0)"
      ],
      "metadata": {
        "id": "3nh9yIKCf9lh"
      },
      "execution_count": null,
      "outputs": []
    },
    {
      "cell_type": "code",
      "source": [
        "from sklearn.preprocessing import StandardScaler\n",
        "\n",
        "sc = StandardScaler()\n",
        "X_train = sc.fit_transform(x_train)\n",
        "X_test = sc.fit_transform(x_test)"
      ],
      "metadata": {
        "id": "7IQem4WHjUWM"
      },
      "execution_count": null,
      "outputs": []
    },
    {
      "cell_type": "code",
      "source": [
        "import keras\n",
        "from keras.models import Sequential\n",
        "from keras.layers import Dense"
      ],
      "metadata": {
        "id": "qg4JJ7GzSYlf"
      },
      "execution_count": null,
      "outputs": []
    },
    {
      "cell_type": "code",
      "source": [
        "classifier = Sequential()\n",
        "classifier.add(Dense(6, kernel_initializer=\"uniform\" , activation= \"relu\", input_dim= 11))"
      ],
      "metadata": {
        "id": "cHmL5RLlSwMc"
      },
      "execution_count": null,
      "outputs": []
    },
    {
      "cell_type": "markdown",
      "source": [
        "* adding a extra hidden layer\n"
      ],
      "metadata": {
        "id": "gexLqa0TUWYb"
      }
    },
    {
      "cell_type": "code",
      "source": [
        "classifier.add(Dense(6, kernel_initializer=\"uniform\" , activation= \"relu\" ))"
      ],
      "metadata": {
        "id": "6HvGpxeiTZY8"
      },
      "execution_count": null,
      "outputs": []
    },
    {
      "cell_type": "markdown",
      "source": [
        "* çıkış katmanı"
      ],
      "metadata": {
        "id": "3mnxUzMIUzlL"
      }
    },
    {
      "cell_type": "code",
      "source": [
        "classifier.add(Dense(1, kernel_initializer=\"uniform\" , activation= \"sigmoid\" ))"
      ],
      "metadata": {
        "id": "4qk1sJTAUqtI"
      },
      "execution_count": null,
      "outputs": []
    },
    {
      "cell_type": "code",
      "source": [
        "classifier.compile(optimizer = \"adam\", loss=\"binary_crossentropy\", metrics = [\"accuracy\"])\n",
        "\n",
        "classifier.fit(X_train, y_train, epochs = 50)\n",
        "\n",
        "y_pred = classifier.predict(X_test)"
      ],
      "metadata": {
        "colab": {
          "base_uri": "https://localhost:8080/"
        },
        "id": "shYLX9abU84T",
        "outputId": "37d64d34-b61e-41c0-bd2b-a7a11ec9fa35"
      },
      "execution_count": null,
      "outputs": [
        {
          "output_type": "stream",
          "name": "stdout",
          "text": [
            "Epoch 1/50\n",
            "210/210 [==============================] - 2s 2ms/step - loss: 0.5768 - accuracy: 0.7979\n",
            "Epoch 2/50\n",
            "210/210 [==============================] - 0s 2ms/step - loss: 0.4380 - accuracy: 0.7979\n",
            "Epoch 3/50\n",
            "210/210 [==============================] - 0s 2ms/step - loss: 0.4308 - accuracy: 0.7979\n",
            "Epoch 4/50\n",
            "210/210 [==============================] - 0s 2ms/step - loss: 0.4278 - accuracy: 0.7979\n",
            "Epoch 5/50\n",
            "210/210 [==============================] - 0s 2ms/step - loss: 0.4254 - accuracy: 0.7979\n",
            "Epoch 6/50\n",
            "210/210 [==============================] - 0s 2ms/step - loss: 0.4227 - accuracy: 0.7979\n",
            "Epoch 7/50\n",
            "210/210 [==============================] - 0s 2ms/step - loss: 0.4203 - accuracy: 0.7979\n",
            "Epoch 8/50\n",
            "210/210 [==============================] - 0s 2ms/step - loss: 0.4182 - accuracy: 0.8043\n",
            "Epoch 9/50\n",
            "210/210 [==============================] - 0s 2ms/step - loss: 0.4169 - accuracy: 0.8193\n",
            "Epoch 10/50\n",
            "210/210 [==============================] - 0s 2ms/step - loss: 0.4160 - accuracy: 0.8240\n",
            "Epoch 11/50\n",
            "210/210 [==============================] - 0s 2ms/step - loss: 0.4155 - accuracy: 0.8254\n",
            "Epoch 12/50\n",
            "210/210 [==============================] - 0s 2ms/step - loss: 0.4141 - accuracy: 0.8261\n",
            "Epoch 13/50\n",
            "210/210 [==============================] - 0s 2ms/step - loss: 0.4133 - accuracy: 0.8279\n",
            "Epoch 14/50\n",
            "210/210 [==============================] - 0s 2ms/step - loss: 0.4125 - accuracy: 0.8293\n",
            "Epoch 15/50\n",
            "210/210 [==============================] - 0s 2ms/step - loss: 0.4120 - accuracy: 0.8304\n",
            "Epoch 16/50\n",
            "210/210 [==============================] - 1s 2ms/step - loss: 0.4115 - accuracy: 0.8301\n",
            "Epoch 17/50\n",
            "210/210 [==============================] - 0s 2ms/step - loss: 0.4107 - accuracy: 0.8312\n",
            "Epoch 18/50\n",
            "210/210 [==============================] - 0s 2ms/step - loss: 0.4100 - accuracy: 0.8322\n",
            "Epoch 19/50\n",
            "210/210 [==============================] - 0s 2ms/step - loss: 0.4097 - accuracy: 0.8316\n",
            "Epoch 20/50\n",
            "210/210 [==============================] - 0s 2ms/step - loss: 0.4092 - accuracy: 0.8333\n",
            "Epoch 21/50\n",
            "210/210 [==============================] - 0s 2ms/step - loss: 0.4085 - accuracy: 0.8324\n",
            "Epoch 22/50\n",
            "210/210 [==============================] - 0s 2ms/step - loss: 0.4079 - accuracy: 0.8318\n",
            "Epoch 23/50\n",
            "210/210 [==============================] - 0s 2ms/step - loss: 0.4079 - accuracy: 0.8334\n",
            "Epoch 24/50\n",
            "210/210 [==============================] - 0s 2ms/step - loss: 0.4074 - accuracy: 0.8319\n",
            "Epoch 25/50\n",
            "210/210 [==============================] - 0s 2ms/step - loss: 0.4068 - accuracy: 0.8327\n",
            "Epoch 26/50\n",
            "210/210 [==============================] - 0s 2ms/step - loss: 0.4064 - accuracy: 0.8327\n",
            "Epoch 27/50\n",
            "210/210 [==============================] - 0s 2ms/step - loss: 0.4060 - accuracy: 0.8334\n",
            "Epoch 28/50\n",
            "210/210 [==============================] - 0s 2ms/step - loss: 0.4057 - accuracy: 0.8339\n",
            "Epoch 29/50\n",
            "210/210 [==============================] - 0s 2ms/step - loss: 0.4053 - accuracy: 0.8334\n",
            "Epoch 30/50\n",
            "210/210 [==============================] - 0s 2ms/step - loss: 0.4050 - accuracy: 0.8333\n",
            "Epoch 31/50\n",
            "210/210 [==============================] - 0s 2ms/step - loss: 0.4048 - accuracy: 0.8327\n",
            "Epoch 32/50\n",
            "210/210 [==============================] - 0s 2ms/step - loss: 0.4042 - accuracy: 0.8336\n",
            "Epoch 33/50\n",
            "210/210 [==============================] - 0s 2ms/step - loss: 0.4037 - accuracy: 0.8339\n",
            "Epoch 34/50\n",
            "210/210 [==============================] - 0s 2ms/step - loss: 0.4033 - accuracy: 0.8346\n",
            "Epoch 35/50\n",
            "210/210 [==============================] - 0s 2ms/step - loss: 0.4037 - accuracy: 0.8352\n",
            "Epoch 36/50\n",
            "210/210 [==============================] - 0s 2ms/step - loss: 0.4036 - accuracy: 0.8346\n",
            "Epoch 37/50\n",
            "210/210 [==============================] - 0s 2ms/step - loss: 0.4032 - accuracy: 0.8361\n",
            "Epoch 38/50\n",
            "210/210 [==============================] - 0s 2ms/step - loss: 0.4028 - accuracy: 0.8349\n",
            "Epoch 39/50\n",
            "210/210 [==============================] - 0s 2ms/step - loss: 0.4025 - accuracy: 0.8361\n",
            "Epoch 40/50\n",
            "210/210 [==============================] - 0s 2ms/step - loss: 0.4027 - accuracy: 0.8354\n",
            "Epoch 41/50\n",
            "210/210 [==============================] - 0s 2ms/step - loss: 0.4019 - accuracy: 0.8364\n",
            "Epoch 42/50\n",
            "210/210 [==============================] - 0s 2ms/step - loss: 0.4018 - accuracy: 0.8364\n",
            "Epoch 43/50\n",
            "210/210 [==============================] - 0s 2ms/step - loss: 0.4017 - accuracy: 0.8357\n",
            "Epoch 44/50\n",
            "210/210 [==============================] - 0s 2ms/step - loss: 0.4015 - accuracy: 0.8358\n",
            "Epoch 45/50\n",
            "210/210 [==============================] - 0s 2ms/step - loss: 0.4015 - accuracy: 0.8339\n",
            "Epoch 46/50\n",
            "210/210 [==============================] - 0s 2ms/step - loss: 0.4017 - accuracy: 0.8355\n",
            "Epoch 47/50\n",
            "210/210 [==============================] - 0s 2ms/step - loss: 0.4015 - accuracy: 0.8354\n",
            "Epoch 48/50\n",
            "210/210 [==============================] - 1s 3ms/step - loss: 0.4011 - accuracy: 0.8349\n",
            "Epoch 49/50\n",
            "210/210 [==============================] - 0s 2ms/step - loss: 0.4010 - accuracy: 0.8367\n",
            "Epoch 50/50\n",
            "210/210 [==============================] - 0s 2ms/step - loss: 0.4007 - accuracy: 0.8372\n",
            "104/104 [==============================] - 0s 1ms/step\n"
          ]
        }
      ]
    },
    {
      "cell_type": "code",
      "source": [
        "# Calculate the ROC curve\n",
        "fpr, tpr, thresholds = roc_curve(y_test, y_pred)\n",
        "\n",
        "# Calculate the AUC (Area Under the Curve)\n",
        "roc_auc = roc_auc_score(y_test, y_pred)\n",
        "\n",
        "# Plot the ROC curve\n",
        "plt.figure(figsize=(8, 6))\n",
        "plt.plot(fpr, tpr, color='blue', lw=2, label='ROC curve (AUC = %0.2f)' % roc_auc)\n",
        "plt.plot([0, 1], [0, 1], color='gray', linestyle='--')\n",
        "plt.xlim([0.0, 1.0])\n",
        "plt.ylim([0.0, 1.05])\n",
        "plt.xlabel('False Positive Rate')\n",
        "plt.ylabel('True Positive Rate')\n",
        "plt.title('ROC Curve')\n",
        "plt.legend(loc=\"lower right\")\n",
        "plt.show()"
      ],
      "metadata": {
        "colab": {
          "base_uri": "https://localhost:8080/",
          "height": 564
        },
        "id": "9bF4Iu3wIUoo",
        "outputId": "1dce8c0c-1bb6-48f2-8c5a-ca964a611fb6"
      },
      "execution_count": null,
      "outputs": [
        {
          "output_type": "display_data",
          "data": {
            "text/plain": [
              "<Figure size 800x600 with 1 Axes>"
            ],
            "image/png": "[encoded data removed]"
          },
          "metadata": {}
        }
      ]
    },
    {
      "cell_type": "code",
      "source": [
        "y_pred = (y_pred > 0.5)\n",
        "\n",
        "from sklearn.metrics import confusion_matrix\n",
        "cm = confusion_matrix(y_test,y_pred)"
      ],
      "metadata": {
        "id": "64r95NhmWd-_"
      },
      "execution_count": null,
      "outputs": []
    },
    {
      "cell_type": "code",
      "source": [
        "# Create a heatmap using seaborn\n",
        "plt.figure(figsize=(8, 6))\n",
        "sns.heatmap(cm, annot=True, fmt=\"d\", cmap=\"Blues\", xticklabels=[\"Predicted 0\", \"Predicted 1\"], yticklabels=[\"Actual 0\", \"Actual 1\"])\n",
        "plt.xlabel(\"Predicted\")\n",
        "plt.ylabel(\"Actual\")\n",
        "plt.title(\"Confusion Matrix\")\n",
        "plt.show()"
      ],
      "metadata": {
        "id": "mSkGuIP-XBNB",
        "colab": {
          "base_uri": "https://localhost:8080/",
          "height": 564
        },
        "outputId": "1b137112-d1ef-4b4b-a471-5356caf1c1a2"
      },
      "execution_count": null,
      "outputs": [
        {
          "output_type": "display_data",
          "data": {
            "text/plain": [
              "<Figure size 800x600 with 2 Axes>"
            ],
            "image/png": "[encoded data removed]"
          },
          "metadata": {}
        }
      ]
    },
    {
      "cell_type": "code",
      "source": [
        "from sklearn.metrics import accuracy_score, precision_score, recall_score, f1_score\n",
        "\n",
        "# Calculate accuracy\n",
        "accuracy = accuracy_score(y_test, y_pred)\n",
        "\n",
        "# Calculate precision\n",
        "precision = precision_score(y_test, y_pred)\n",
        "\n",
        "# Calculate recall\n",
        "recall = recall_score(y_test, y_pred)\n",
        "\n",
        "# Calculate F1-score\n",
        "f1 = f1_score(y_test, y_pred)"
      ],
      "metadata": {
        "id": "0yRVszFyB5bL"
      },
      "execution_count": null,
      "outputs": []
    },
    {
      "cell_type": "code",
      "source": [
        "# Create a PrettyTable instance\n",
        "table = PrettyTable()\n",
        "\n",
        "# Add columns to the table\n",
        "table.field_names = [\"Metric\", \"Value\"]\n",
        "\n",
        "# Add rows to the table\n",
        "table.add_row([\"Accuracy\", f\"{accuracy:.2f}\"])\n",
        "table.add_row([\"Precision\", f\"{precision:.2f}\"])\n",
        "table.add_row([\"Recall\", f\"{recall:.2f}\"])\n",
        "table.add_row([\"F1-Score\", f\"{f1:.2f}\"])\n",
        "\n",
        "# Set the alignment of the columns\n",
        "table.align[\"Metric\"] = \"l\"\n",
        "table.align[\"Value\"] = \"r\"\n",
        "\n",
        "# Print the table\n",
        "print(table)"
      ],
      "metadata": {
        "colab": {
          "base_uri": "https://localhost:8080/"
        },
        "id": "Tvxyha9Mwm5G",
        "outputId": "265d4362-eaa2-4085-8991-f3db9197de59"
      },
      "execution_count": null,
      "outputs": [
        {
          "output_type": "stream",
          "name": "stdout",
          "text": [
            "+-----------+-------+\n",
            "| Metric    | Value |\n",
            "+-----------+-------+\n",
            "| Accuracy  |  0.84 |\n",
            "| Precision |  0.77 |\n",
            "| Recall    |  0.32 |\n",
            "| F1-Score  |  0.45 |\n",
            "+-----------+-------+\n"
          ]
        }
      ]
    }
  ]
}